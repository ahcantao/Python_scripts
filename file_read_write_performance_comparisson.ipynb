{
 "cells": [
  {
   "cell_type": "markdown",
   "metadata": {},
   "source": [
    "# Checking the performance for READ and WRITE operations\n",
    "### methods: pandas.read_table + pandas.to_csv VS file.readlines() + file.write()"
   ]
  },
  {
   "cell_type": "code",
   "execution_count": 1,
   "metadata": {},
   "outputs": [],
   "source": [
    "\"\"\" Using sklearn to create the dataset easily.\n",
    "    Make_classification allows to choose\n",
    "    the quantity of features and samples\n",
    "\"\"\"\n",
    "from sklearn.datasets import make_classification\n",
    "import time\n",
    "import numpy as np\n",
    "import pandas as pd\n",
    "import seaborn as sns\n",
    "\n",
    "def read_and_remove_first_lines_dataframe(file_path, lines_to_remove):\n",
    "    df = pd.read_table(file_path, sep='\\t', header=0)\n",
    "    df[lines_to_remove:].to_csv(file_path+\"removing_lines.txt\", header=True, index=None, sep='\\t', mode='w')\n",
    "\n",
    "def read_and_remove_first_lines_readlines(file_path, lines_to_remove):\n",
    "    line_counter = 0\n",
    "    with open(file_path, \"r\") as f:\n",
    "        lines = f.readlines()\n",
    "    with open(file_path+\"removing_lines.txt\", \"w\") as f:\n",
    "        for line in lines:\n",
    "            if line_counter == 0 or line_counter > lines_to_remove:\n",
    "                f.write(line)\n",
    "            line_counter = line_counter + 1\n",
    "\n",
    "#creates the dataset, converts to dataFrame and saves to file\n",
    "def create_dataset(samples, features, output_file):\n",
    "    dataset,_ = make_classification(n_samples=samples,n_features=features, n_redundant=0, n_informative=features)\n",
    "    dataset = pd.DataFrame(dataset)\n",
    "    dataset.to_csv(output_file)"
   ]
  },
  {
   "cell_type": "code",
   "execution_count": 2,
   "metadata": {},
   "outputs": [],
   "source": [
    "create_dataset(samples=100,features=10, output_file=\"C:/temp/dataset_small.txt\")\n",
    "create_dataset(samples=1000,features=100, output_file=\"C:/temp/dataset_medium.txt\")\n",
    "create_dataset(samples=10000,features=500, output_file=\"C:/temp/dataset_large.txt\")"
   ]
  },
  {
   "cell_type": "markdown",
   "metadata": {},
   "source": [
    "# Calculating time for READING operation only"
   ]
  },
  {
   "cell_type": "code",
   "execution_count": 3,
   "metadata": {},
   "outputs": [
    {
     "name": "stdout",
     "output_type": "stream",
     "text": [
      "Wall time: 1min 54s\n"
     ]
    }
   ],
   "source": [
    "%%time\n",
    "performance = list()\n",
    "performance.append([\"method\", \"size\", \"duration\"])\n",
    "runs = 100\n",
    "\n",
    "start = time.time()\n",
    "file_path = f\"C:/temp/dataset_small.txt\"\n",
    "for i in range(runs):\n",
    "    df = pd.read_table(file_path, sep='\\t', header=0)\n",
    "end = time.time()\n",
    "total_time = end - start\n",
    "performance.append([\"dataframe\", \"small\", total_time])\n",
    "\n",
    "start = time.time()\n",
    "file_path = f\"C:/temp/dataset_small.txt\"\n",
    "for i in range(runs):\n",
    "    with open(file_path, \"r\") as f:\n",
    "        lines = f.readlines()\n",
    "end = time.time()\n",
    "total_time = end - start\n",
    "performance.append([\"readlines\", \"small\", total_time])\n",
    "\n",
    "start = time.time()\n",
    "file_path = f\"C:/temp/dataset_medium.txt\"\n",
    "for i in range(runs):\n",
    "    df = pd.read_table(file_path, sep='\\t', header=0)\n",
    "end = time.time()\n",
    "total_time = end - start\n",
    "performance.append([\"dataframe\", \"medium\", total_time])\n",
    "\n",
    "start = time.time()\n",
    "file_path = f\"C:/temp/dataset_medium.txt\"\n",
    "for i in range(runs):\n",
    "    with open(file_path, \"r\") as f:\n",
    "        lines = f.readlines()\n",
    "end = time.time()\n",
    "total_time = end - start\n",
    "performance.append([\"readlines\", \"medium\", total_time])\n",
    "\n",
    "start = time.time()\n",
    "file_path = f\"C:/temp/dataset_large.txt\"\n",
    "for i in range(runs):\n",
    "    df = pd.read_table(file_path, sep='\\t', header=0)\n",
    "end = time.time()\n",
    "total_time = end - start\n",
    "performance.append([\"dataframe\", \"large\", total_time])\n",
    "\n",
    "start = time.time()\n",
    "file_path = f\"C:/temp/dataset_large.txt\"\n",
    "for i in range(runs):\n",
    "    with open(file_path, \"r\") as f:\n",
    "        lines = f.readlines()\n",
    "end = time.time()\n",
    "total_time = end - start\n",
    "performance.append([\"readlines\", \"large\", total_time])"
   ]
  },
  {
   "cell_type": "markdown",
   "metadata": {},
   "source": [
    "#### Converting all the data from the list to a dataframe"
   ]
  },
  {
   "cell_type": "code",
   "execution_count": 4,
   "metadata": {},
   "outputs": [
    {
     "data": {
      "text/html": [
       "<div>\n",
       "<style scoped>\n",
       "    .dataframe tbody tr th:only-of-type {\n",
       "        vertical-align: middle;\n",
       "    }\n",
       "\n",
       "    .dataframe tbody tr th {\n",
       "        vertical-align: top;\n",
       "    }\n",
       "\n",
       "    .dataframe thead th {\n",
       "        text-align: right;\n",
       "    }\n",
       "</style>\n",
       "<table border=\"1\" class=\"dataframe\">\n",
       "  <thead>\n",
       "    <tr style=\"text-align: right;\">\n",
       "      <th></th>\n",
       "      <th>method</th>\n",
       "      <th>size</th>\n",
       "      <th>duration</th>\n",
       "    </tr>\n",
       "  </thead>\n",
       "  <tbody>\n",
       "    <tr>\n",
       "      <th>0</th>\n",
       "      <td>dataframe</td>\n",
       "      <td>small</td>\n",
       "      <td>0.104042</td>\n",
       "    </tr>\n",
       "    <tr>\n",
       "      <th>1</th>\n",
       "      <td>readlines</td>\n",
       "      <td>small</td>\n",
       "      <td>0.015023</td>\n",
       "    </tr>\n",
       "    <tr>\n",
       "      <th>2</th>\n",
       "      <td>dataframe</td>\n",
       "      <td>medium</td>\n",
       "      <td>1.869882</td>\n",
       "    </tr>\n",
       "    <tr>\n",
       "      <th>3</th>\n",
       "      <td>readlines</td>\n",
       "      <td>medium</td>\n",
       "      <td>0.660270</td>\n",
       "    </tr>\n",
       "    <tr>\n",
       "      <th>4</th>\n",
       "      <td>dataframe</td>\n",
       "      <td>large</td>\n",
       "      <td>77.367451</td>\n",
       "    </tr>\n",
       "    <tr>\n",
       "      <th>5</th>\n",
       "      <td>readlines</td>\n",
       "      <td>large</td>\n",
       "      <td>34.196990</td>\n",
       "    </tr>\n",
       "  </tbody>\n",
       "</table>\n",
       "</div>"
      ],
      "text/plain": [
       "      method    size   duration\n",
       "0  dataframe   small   0.104042\n",
       "1  readlines   small   0.015023\n",
       "2  dataframe  medium   1.869882\n",
       "3  readlines  medium   0.660270\n",
       "4  dataframe   large  77.367451\n",
       "5  readlines   large  34.196990"
      ]
     },
     "execution_count": 4,
     "metadata": {},
     "output_type": "execute_result"
    }
   ],
   "source": [
    "performance_df = pd.DataFrame(performance[1:], columns=performance[0])\n",
    "performance_df"
   ]
  },
  {
   "cell_type": "markdown",
   "metadata": {},
   "source": [
    "#### getting sqrt and log of duration to improve the plot visualization"
   ]
  },
  {
   "cell_type": "code",
   "execution_count": 5,
   "metadata": {},
   "outputs": [
    {
     "data": {
      "text/html": [
       "<div>\n",
       "<style scoped>\n",
       "    .dataframe tbody tr th:only-of-type {\n",
       "        vertical-align: middle;\n",
       "    }\n",
       "\n",
       "    .dataframe tbody tr th {\n",
       "        vertical-align: top;\n",
       "    }\n",
       "\n",
       "    .dataframe thead th {\n",
       "        text-align: right;\n",
       "    }\n",
       "</style>\n",
       "<table border=\"1\" class=\"dataframe\">\n",
       "  <thead>\n",
       "    <tr style=\"text-align: right;\">\n",
       "      <th></th>\n",
       "      <th>method</th>\n",
       "      <th>size</th>\n",
       "      <th>duration</th>\n",
       "      <th>duration_sqrt</th>\n",
       "      <th>duration_log2</th>\n",
       "      <th>duration_log10</th>\n",
       "    </tr>\n",
       "  </thead>\n",
       "  <tbody>\n",
       "    <tr>\n",
       "      <th>0</th>\n",
       "      <td>dataframe</td>\n",
       "      <td>small</td>\n",
       "      <td>0.104042</td>\n",
       "      <td>0.322555</td>\n",
       "      <td>-3.264768</td>\n",
       "      <td>-0.982793</td>\n",
       "    </tr>\n",
       "    <tr>\n",
       "      <th>1</th>\n",
       "      <td>readlines</td>\n",
       "      <td>small</td>\n",
       "      <td>0.015023</td>\n",
       "      <td>0.122567</td>\n",
       "      <td>-6.056707</td>\n",
       "      <td>-1.823250</td>\n",
       "    </tr>\n",
       "    <tr>\n",
       "      <th>2</th>\n",
       "      <td>dataframe</td>\n",
       "      <td>medium</td>\n",
       "      <td>1.869882</td>\n",
       "      <td>1.367436</td>\n",
       "      <td>0.902947</td>\n",
       "      <td>0.271814</td>\n",
       "    </tr>\n",
       "    <tr>\n",
       "      <th>3</th>\n",
       "      <td>readlines</td>\n",
       "      <td>medium</td>\n",
       "      <td>0.660270</td>\n",
       "      <td>0.812570</td>\n",
       "      <td>-0.598871</td>\n",
       "      <td>-0.180278</td>\n",
       "    </tr>\n",
       "    <tr>\n",
       "      <th>4</th>\n",
       "      <td>dataframe</td>\n",
       "      <td>large</td>\n",
       "      <td>77.367451</td>\n",
       "      <td>8.795877</td>\n",
       "      <td>6.273655</td>\n",
       "      <td>1.888558</td>\n",
       "    </tr>\n",
       "    <tr>\n",
       "      <th>5</th>\n",
       "      <td>readlines</td>\n",
       "      <td>large</td>\n",
       "      <td>34.196990</td>\n",
       "      <td>5.847819</td>\n",
       "      <td>5.095797</td>\n",
       "      <td>1.533988</td>\n",
       "    </tr>\n",
       "  </tbody>\n",
       "</table>\n",
       "</div>"
      ],
      "text/plain": [
       "      method    size   duration  duration_sqrt  duration_log2  duration_log10\n",
       "0  dataframe   small   0.104042       0.322555      -3.264768       -0.982793\n",
       "1  readlines   small   0.015023       0.122567      -6.056707       -1.823250\n",
       "2  dataframe  medium   1.869882       1.367436       0.902947        0.271814\n",
       "3  readlines  medium   0.660270       0.812570      -0.598871       -0.180278\n",
       "4  dataframe   large  77.367451       8.795877       6.273655        1.888558\n",
       "5  readlines   large  34.196990       5.847819       5.095797        1.533988"
      ]
     },
     "execution_count": 5,
     "metadata": {},
     "output_type": "execute_result"
    }
   ],
   "source": [
    "performance_df[\"duration_sqrt\"] = np.sqrt(performance_df[\"duration\"])\n",
    "performance_df[\"duration_log2\"] = np.log2(performance_df[\"duration\"])\n",
    "performance_df[\"duration_log10\"] = np.log10(performance_df[\"duration\"])\n",
    "\n",
    "# #replacing -inf to NaN, only on columns with -inf (columns 4 and 5)\n",
    "# #then replacing NaN with ZERO\n",
    "# performance_df.iloc[:,4:] = performance_df.iloc[:,4:].mask(np.isinf(performance_df.iloc[:,4:]))\n",
    "# performance_df.iloc[:,4:] = performance_df.iloc[:,4:].fillna(0)\n",
    "# performance_df\n",
    "\n",
    "performance_df"
   ]
  },
  {
   "cell_type": "markdown",
   "metadata": {},
   "source": [
    "## Best plot option is square root of time in sec\n",
    "#### for the other options the visualizations are not good."
   ]
  },
  {
   "cell_type": "markdown",
   "metadata": {},
   "source": [
    "checking if variable runs still exists, to avoid error while plotting"
   ]
  },
  {
   "cell_type": "code",
   "execution_count": 6,
   "metadata": {},
   "outputs": [],
   "source": [
    "try:\n",
    "    runs\n",
    "except NameError:\n",
    "    runs = None"
   ]
  },
  {
   "cell_type": "markdown",
   "metadata": {},
   "source": [
    "Plot using square root value of duration"
   ]
  },
  {
   "cell_type": "code",
   "execution_count": 7,
   "metadata": {},
   "outputs": [
    {
     "data": {
      "text/plain": [
       "[Text(0, 0.5, '100 runs duration in sec (sqrt)'),\n",
       " Text(0.5, 0, 'size of the dataset'),\n",
       " Text(0.5, 1.0, 'File read speed comparisson')]"
      ]
     },
     "execution_count": 7,
     "metadata": {},
     "output_type": "execute_result"
    },
    {
     "data": {
      "image/png": "[encoded data removed]",
      "text/plain": [
       "<Figure size 432x288 with 1 Axes>"
      ]
     },
     "metadata": {
      "needs_background": "light"
     },
     "output_type": "display_data"
    }
   ],
   "source": [
    "p = sns.barplot(x=\"size\", y=\"duration_sqrt\", hue=\"method\", data=performance_df)\n",
    "p.set(xlabel=\"size of the dataset\", ylabel=f\"{runs} runs duration in sec (sqrt)\", title=\"File read speed comparisson\")"
   ]
  },
  {
   "cell_type": "markdown",
   "metadata": {},
   "source": [
    "checking the time difference between the methods"
   ]
  },
  {
   "cell_type": "code",
   "execution_count": 8,
   "metadata": {},
   "outputs": [
    {
     "name": "stdout",
     "output_type": "stream",
     "text": [
      "There was a differecen of 6.926 times for small dataset\n",
      "There was a differecen of 2.832 times for medium dataset\n",
      "There was a differecen of 2.262 times for large dataset\n"
     ]
    }
   ],
   "source": [
    "sizes = ['small', 'medium', 'large']\n",
    "for size in sizes:\n",
    "    values = performance_df['duration'].loc[performance_df['size'] == size]\n",
    "    dif = round(max(values) / min(values),3)\n",
    "    print(f\"There was a differecen of {dif} times for {size} dataset\")"
   ]
  },
  {
   "cell_type": "markdown",
   "metadata": {},
   "source": [
    "Other visualizations (not that good)"
   ]
  },
  {
   "cell_type": "raw",
   "metadata": {},
   "source": [
    "#original value of duration\n",
    "p = sns.barplot(x=\"size\", y=\"duration\", hue=\"method\", data=performance_df)\n",
    "p.set(xlabel=\"size of the dataset\", ylabel=f\"{runs} runs duration in sec\", title=\"File read speed comparisson\")"
   ]
  },
  {
   "cell_type": "raw",
   "metadata": {},
   "source": [
    "#log2 value of duration\n",
    "p = sns.barplot(x=\"size\", y=\"duration_log2\", hue=\"method\", data=performance_df)\n",
    "p.set(xlabel=\"size of the dataset\", ylabel=f\"{runs} runs duration in sec (log2)\", title=\"File read speed comparisson\")"
   ]
  },
  {
   "cell_type": "raw",
   "metadata": {},
   "source": [
    "#log10 value of duration\n",
    "p = sns.barplot(x=\"size\", y=\"duration_log10\", hue=\"method\", data=performance_df)\n",
    "p.set(xlabel=\"size of the dataset\", ylabel=f\"{runs} runs duration in sec (log10)\", title=\"File read speed comparisson\")"
   ]
  },
  {
   "cell_type": "markdown",
   "metadata": {},
   "source": [
    "# Now calculating time for READING and SAVING\n",
    "### The script also removes 4 lines of the text files to simulate any manipulation\n",
    "\n",
    "###### Time or line removal is trivial and not considered for this example"
   ]
  },
  {
   "cell_type": "code",
   "execution_count": 9,
   "metadata": {},
   "outputs": [
    {
     "name": "stdout",
     "output_type": "stream",
     "text": [
      "Wall time: 5min 29s\n"
     ]
    }
   ],
   "source": [
    "%%time\n",
    "performance = list()\n",
    "performance.append([\"method\", \"size\", \"duration\"])\n",
    "runs = 100\n",
    "lines_to_remove = 4\n",
    "\n",
    "start = time.time()\n",
    "file_path = f\"C:/temp/dataset_small.txt\"\n",
    "for i in range(runs):\n",
    "    read_and_remove_first_lines_dataframe(file_path, lines_to_remove)\n",
    "end = time.time()\n",
    "total_time = end - start\n",
    "performance.append([\"dataframe\", \"small\", total_time])\n",
    "\n",
    "start = time.time()\n",
    "file_path = f\"C:/temp/dataset_small.txt\"\n",
    "for i in range(runs):\n",
    "    read_and_remove_first_lines_readlines(file_path, lines_to_remove)\n",
    "end = time.time()\n",
    "total_time = end - start\n",
    "performance.append([\"readlines\", \"small\", total_time])\n",
    "\n",
    "start = time.time()\n",
    "file_path = f\"C:/temp/dataset_medium.txt\"\n",
    "for i in range(runs):\n",
    "    read_and_remove_first_lines_dataframe(file_path, lines_to_remove)\n",
    "end = time.time()\n",
    "total_time = end - start\n",
    "performance.append([\"dataframe\", \"medium\", total_time])\n",
    "\n",
    "start = time.time()\n",
    "file_path = f\"C:/temp/dataset_medium.txt\"\n",
    "for i in range(runs):\n",
    "    read_and_remove_first_lines_readlines(file_path, lines_to_remove)\n",
    "end = time.time()\n",
    "total_time = end - start\n",
    "performance.append([\"readlines\", \"medium\", total_time])\n",
    "\n",
    "start = time.time()\n",
    "file_path = f\"C:/temp/dataset_large.txt\"\n",
    "for i in range(runs):\n",
    "    read_and_remove_first_lines_dataframe(file_path, lines_to_remove)\n",
    "end = time.time()\n",
    "total_time = end - start\n",
    "performance.append([\"dataframe\", \"large\", total_time])\n",
    "\n",
    "start = time.time()\n",
    "file_path = f\"C:/temp/dataset_large.txt\"\n",
    "for i in range(runs):\n",
    "    read_and_remove_first_lines_readlines(file_path, lines_to_remove)\n",
    "end = time.time()\n",
    "total_time = end - start\n",
    "performance.append([\"readlines\", \"large\", total_time])"
   ]
  },
  {
   "cell_type": "code",
   "execution_count": 10,
   "metadata": {},
   "outputs": [
    {
     "name": "stdout",
     "output_type": "stream",
     "text": [
      "There was a differecen of 3.978 times for small dataset\n",
      "There was a differecen of 2.532 times for medium dataset\n",
      "There was a differecen of 2.34 times for large dataset\n"
     ]
    },
    {
     "data": {
      "image/png": "[encoded data removed]",
      "text/plain": [
       "<Figure size 432x288 with 1 Axes>"
      ]
     },
     "metadata": {
      "needs_background": "light"
     },
     "output_type": "display_data"
    }
   ],
   "source": [
    "performance_df = pd.DataFrame(performance[1:], columns=performance[0])\n",
    "performance_df[\"duration_sqrt\"] = np.sqrt(performance_df[\"duration\"])\n",
    "\n",
    "#Square root value of duration\n",
    "p = sns.barplot(x=\"size\", y=\"duration_sqrt\", hue=\"method\", data=performance_df)\n",
    "p.set(xlabel=\"size of the dataset\", ylabel=f\"{runs} runs duration in sec (sqrt)\", title=\"File read speed comparisson\")\n",
    "\n",
    "sizes = ['small', 'medium', 'large']\n",
    "for size in sizes:\n",
    "    values = performance_df['duration'].loc[performance_df['size'] == size]\n",
    "    dif = round(max(values) / min(values),3)\n",
    "    print(f\"There was a differecen of {dif} times for {size} dataset\")"
   ]
  }
 ],
 "metadata": {
  "kernelspec": {
   "display_name": "Python 3",
   "language": "python",
   "name": "python3"
  },
  "language_info": {
   "codemirror_mode": {
    "name": "ipython",
    "version": 3
   },
   "file_extension": ".py",
   "mimetype": "text/x-python",
   "name": "python",
   "nbconvert_exporter": "python",
   "pygments_lexer": "ipython3",
   "version": "3.7.6"
  }
 },
 "nbformat": 4,
 "nbformat_minor": 4
}
