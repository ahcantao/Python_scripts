{
 "cells": [
  {
   "cell_type": "code",
   "execution_count": 1,
   "metadata": {},
   "outputs": [],
   "source": [
    "import os\n",
    "import glob"
   ]
  },
  {
   "cell_type": "code",
   "execution_count": 2,
   "metadata": {},
   "outputs": [],
   "source": [
    "def append_files(base_path_from, base_path_to,noises):\n",
    "    datasets = glob.glob1(base_path_from,\"*\")\n",
    "    for dataset in datasets:\n",
    "        print('appending files from dataset: ', dataset)\n",
    "        for kfold in range(1, 11):\n",
    "            for noise in noises:\n",
    "                file_path      = f\"/{kfold:0>3}/{noise}/score/\"\n",
    "                full_path_from = base_path_from + dataset + file_path\n",
    "                full_path_to   = base_path_to + dataset + file_path\n",
    "                files          = glob.glob1(base_path_from + dataset + file_path, '*')\n",
    "                for file in files:\n",
    "                    count_lines = 0\n",
    "                    with open(full_path_from + file, \"r\") as f_from:\n",
    "                        lines = f_from.readlines()\n",
    "                        with open(full_path_to + file, \"a\") as f_to:\n",
    "                            for line in lines:\n",
    "                                if count_lines > 0:\n",
    "                                    f_to.write(line)\n",
    "                                count_lines += 1"
   ]
  },
  {
   "cell_type": "code",
   "execution_count": 3,
   "metadata": {},
   "outputs": [
    {
     "name": "stdout",
     "output_type": "stream",
     "text": [
      "appending files from dataset:  2dnormals_c7_scores\n",
      "appending files from dataset:  blobs_c2_d7_scores\n",
      "appending files from dataset:  blobs_c3_d7_scores\n",
      "appending files from dataset:  blobs_c5_d7_scores\n",
      "appending files from dataset:  blobs_c7_d7_scores\n",
      "appending files from dataset:  classification_c3_d7_scores\n",
      "appending files from dataset:  gaussian_quantiles_c5_d7_scores\n",
      "appending files from dataset:  gaussian_quantiles_c7_d7_scores\n",
      "Wall time: 3.29 s\n"
     ]
    }
   ],
   "source": [
    "%%time\n",
    "\n",
    "base_path_from = \"\"\n",
    "base_path_to   = \"\"\n",
    "noises = ['001','002','004','008','016','032','064','128','256','512','1024']\n",
    "\n",
    "append_files(base_path_from, base_path_to,noises)"
   ]
  }
 ],
 "metadata": {
  "kernelspec": {
   "display_name": "Python 3",
   "language": "python",
   "name": "python3"
  },
  "language_info": {
   "codemirror_mode": {
    "name": "ipython",
    "version": 3
   },
   "file_extension": ".py",
   "mimetype": "text/x-python",
   "name": "python",
   "nbconvert_exporter": "python",
   "pygments_lexer": "ipython3",
   "version": "3.7.6"
  }
 },
 "nbformat": 4,
 "nbformat_minor": 4
}
